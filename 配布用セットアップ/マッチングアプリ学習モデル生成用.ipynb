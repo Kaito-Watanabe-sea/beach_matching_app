{
 "cells": [
  {
   "cell_type": "code",
   "execution_count": null,
   "id": "99e0ad8e",
   "metadata": {},
   "outputs": [],
   "source": [
    "#そのまま実行してください\n",
    "pip install pandas"
   ]
  },
  {
   "cell_type": "code",
   "execution_count": null,
   "id": "5b6225c7",
   "metadata": {
    "scrolled": false
   },
   "outputs": [],
   "source": [
    "#そのまま実行してください\n",
    "pip install pycaret"
   ]
  },
  {
   "cell_type": "code",
   "execution_count": null,
   "id": "be44bdd4",
   "metadata": {},
   "outputs": [],
   "source": [
    "#そのまま実行してください\n",
    "import pandas as pd\n",
    "import pycaret\n",
    "from pycaret.regression import *\n",
    "# from pycaret.classification import *"
   ]
  },
  {
   "cell_type": "code",
   "execution_count": null,
   "id": "e9663c24",
   "metadata": {
    "scrolled": false
   },
   "outputs": [],
   "source": [
    "#　''の中に「学習モデル生成用.xlsx」の絶対パスを書いてください\n",
    "bs = pd.read_excel('C:\\マッチングアプリ\\処理層\\学習モデル生成用.xlsx')"
   ]
  },
  {
   "cell_type": "code",
   "execution_count": null,
   "id": "bdb75a13",
   "metadata": {
    "scrolled": false
   },
   "outputs": [],
   "source": [
    "#そのまま実行してください\n",
    "exp1 = setup(bs, target = '評価', ignore_features = ['海岸名'], numeric_features = ['砂浜の白さ'])"
   ]
  },
  {
   "cell_type": "code",
   "execution_count": null,
   "id": "ee4739be",
   "metadata": {},
   "outputs": [],
   "source": [
    "#そのまま実行してください\n",
    "compare_models()"
   ]
  },
  {
   "cell_type": "code",
   "execution_count": null,
   "id": "f557c09d",
   "metadata": {},
   "outputs": [],
   "source": [
    "#一番精度(R2)が良かったものを選んで''の中に書いてくだい。\n",
    "model = create_model('')"
   ]
  },
  {
   "cell_type": "code",
   "execution_count": null,
   "id": "5c11fe3f",
   "metadata": {},
   "outputs": [],
   "source": [
    "#tune modelの中身を変えて実行してもらっても大丈夫です。\n",
    "tuned_model = tune_model(model, n_iter = 500, optimize = 'r2')"
   ]
  },
  {
   "cell_type": "code",
   "execution_count": null,
   "id": "0efec333",
   "metadata": {
    "scrolled": false
   },
   "outputs": [],
   "source": [
    "#そのまま実行してください\n",
    "evaluate_model(tuned_model)"
   ]
  },
  {
   "cell_type": "markdown",
   "id": "1762256e",
   "metadata": {},
   "source": []
  },
  {
   "cell_type": "code",
   "execution_count": null,
   "id": "b135c83b",
   "metadata": {},
   "outputs": [],
   "source": [
    "#そのまま実行してください\n",
    "final_model = finalize_model(tuned_model)"
   ]
  },
  {
   "cell_type": "code",
   "execution_count": null,
   "id": "cdd9f966",
   "metadata": {
    "scrolled": false
   },
   "outputs": [],
   "source": [
    "#そのまま実行してください。実行するとmatching_app_learningというファイルが生成されるので\n",
    "#マッチングアプリフォルダ内の物を上書きしてください。\n",
    "save_model(final_model, 'matching_app_learning')"
   ]
  }
 ],
 "metadata": {
  "kernelspec": {
   "display_name": "Python 3",
   "language": "python",
   "name": "python3"
  },
  "language_info": {
   "codemirror_mode": {
    "name": "ipython",
    "version": 3
   },
   "file_extension": ".py",
   "mimetype": "text/x-python",
   "name": "python",
   "nbconvert_exporter": "python",
   "pygments_lexer": "ipython3",
   "version": "3.8.8"
  }
 },
 "nbformat": 4,
 "nbformat_minor": 5
}
